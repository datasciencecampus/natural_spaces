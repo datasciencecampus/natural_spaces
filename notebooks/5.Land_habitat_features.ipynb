{
 "cells": [
  {
   "attachments": {},
   "cell_type": "markdown",
   "id": "315bd9cd",
   "metadata": {},
   "source": [
    "# Land Habitat Classification features\n",
    "\n",
    "Land Habitat information around buffer areas for each site is gathered. Each sit is then labelled according to density based clustering."
   ]
  },
  {
   "attachments": {},
   "cell_type": "markdown",
   "id": "c5319e31",
   "metadata": {},
   "source": [
    "Landcover (Living England), Living England Habitat Map (Phase 4) | Natural England Open Data Geoportal (arcgis.com)\n",
    "https://naturalengland-defra.opendata.arcgis.com/datasets/Defra::living-england-habitat-map-phase-4/about\n",
    "\n"
   ]
  },
  {
   "cell_type": "code",
   "execution_count": null,
   "id": "cacbf56b",
   "metadata": {},
   "outputs": [],
   "source": [
    "%load_ext autoreload\n",
    "%autoreload 2\n",
    "\n",
    "# All the variables are defined in the Config file\n",
    "from model_config import *\n",
    "from model_packages import *\n",
    "from model_utils import *"
   ]
  },
  {
   "cell_type": "code",
   "execution_count": null,
   "id": "66763ed0",
   "metadata": {},
   "outputs": [],
   "source": [
    "os.chdir('..')"
   ]
  },
  {
   "attachments": {},
   "cell_type": "markdown",
   "id": "9d2e7f21",
   "metadata": {},
   "source": [
    "# Habitat Classification Maps"
   ]
  },
  {
   "attachments": {},
   "cell_type": "markdown",
   "id": "d95c55b2",
   "metadata": {},
   "source": [
    "The open dataset has been manually downloaded from the portal above.\n",
    "\n",
    "The habitat classification map  uses a machine learning approach to image classification, developed under the Defra Living Maps project (SD1705 – Kilcoyne et al., 2017). The method first clusters homogeneous areas of habitat into segments, then assigns each segment to a defined list of habitat classes using Random Forest (a machine learning algorithm). The habitat probability map displays modelled likely broad habitat classifications, trained on field surveys and earth observation data from 2021 as well as historic data layers. This map is an output from Phase IV of the Living England project, with future work in Phase V (2022-23) intending to standardise the methodology and Phase VI (2023-24) to implement the agreed standardised methods."
   ]
  },
  {
   "cell_type": "code",
   "execution_count": null,
   "id": "d7892a3e",
   "metadata": {},
   "outputs": [],
   "source": [
    "# These are the steps to save a local file to be used for analysis\n",
    "\n",
    "# data_loc=data_folder+'NE_LivingEnglandHabitatMapPhase4_SHP_Full/'\n",
    "\n",
    "# file_loc_shp=[x for x in os.listdir(data_loc+'data') if x.split('.')[1]=='shp']\n",
    "# read_shp=[gpd.read_file(data_loc+'data/'+x) for x in file_loc_shp]\n",
    "# pd.concat(read_shp).reset_index(drop=True).to_pickle('data/ne_living_habitat.pkl')"
   ]
  },
  {
   "cell_type": "code",
   "execution_count": null,
   "id": "64572cdb",
   "metadata": {},
   "outputs": [],
   "source": [
    "df_ne_habitat=pd.read_pickle(data_loc_ne_habitat)\n",
    "\n",
    "# select only areas where the probablility of the predicted habitat type for the first prediction is greater than or equal to mean prediction probability\n",
    "df_ne_habitat_hgh_prob=df_ne_habitat[df_ne_habitat['A_prob']>=df_ne_habitat['A_prob'].mean()]\n",
    "df_ne_habitat_hgh_prob=df_ne_habitat_hgh_prob[['A_pred','A_prob','geometry']].reset_index(drop=True)"
   ]
  },
  {
   "cell_type": "code",
   "execution_count": null,
   "id": "4dc76d7c",
   "metadata": {},
   "outputs": [],
   "source": [
    "# Get shapefiles for buffer around each counter site\n",
    "# which falls within mainland UK\n",
    "\n",
    "world = gpd.read_file(world_boundaries)\n",
    "\n",
    "uk = world[world.name == 'U.K. of Great Britain and Northern Ireland'] \n",
    "\n",
    "\n",
    "sites_df=gpd.read_file(data_folder+'accessibility.shp')\n",
    "\n",
    "sites_df=sites_df[sites_df['geom_type']=='5km buffer'].reset_index(drop=True)\n",
    "\n",
    "\n",
    "sites_df_all=sites_df.copy()\n",
    "\n",
    "del sites_df['area']\n",
    "\n",
    "lst_a=sites_df['counter'].unique()\n",
    "\n",
    "\n",
    "sites_df = sites_df[[x for x in sites_df.columns if x not in ['area']]].to_crs(crs_mtr).\\\n",
    "overlay(uk.to_crs(crs_mtr), how='intersection')\n",
    "\n",
    "lst_b=sites_df['counter'].unique()\n",
    "\n",
    "ax=uk.to_crs(crs_deg).plot(color='r',alpha=0.1)\n",
    "\n",
    "sites_df.to_crs(crs_deg).plot(ax=ax)"
   ]
  },
  {
   "cell_type": "code",
   "execution_count": null,
   "id": "6946ef7b",
   "metadata": {},
   "outputs": [],
   "source": [
    "# Get the intersection of land habitat classification prediction with buffer zones around each people counter location.\n",
    "sites_df_habitat = sites_df.to_crs(crs_mtr).\\\n",
    "overlay(df_ne_habitat_hgh_prob.to_crs(crs_mtr), how='intersection')\n",
    "\n",
    "sites_df_habitat.plot()\n",
    "\n",
    "sites_df_habitat['area_habitat_sq_km']=sites_df_habitat.geometry.area/10**6\n",
    "\n",
    "sites_df_habitat.to_pickle(data_folder+'habitat_cover_area.pkl')"
   ]
  },
  {
   "cell_type": "code",
   "execution_count": null,
   "id": "7ed50aa1",
   "metadata": {},
   "outputs": [],
   "source": [
    "# map to reduced number of habitat types    \n",
    "sites_df_habitat['A_pred']=sites_df_habitat['A_pred'].map(habitat_dict)\n",
    "\n",
    "# sum of areas by counter location and habitat type\n",
    "sites_df_habitat_cover=sites_df_habitat.groupby(['counter','A_pred'])['area_habitat_sq_km'].sum().reset_index()\n",
    "\n",
    "# assign a primary habitat type to each people counter location \n",
    "sites_df_habitat_cover.rename(columns={'A_pred':'primary_habitat'},inplace=True)"
   ]
  },
  {
   "cell_type": "code",
   "execution_count": null,
   "id": "68c168c9",
   "metadata": {},
   "outputs": [],
   "source": [
    "# create a pivot table to show the habitat make up, in terms of area,  of each buffer zone \n",
    "sites_df_habitat_cover_pv=sites_df_habitat_cover.pivot_table('area_habitat_sq_km', ['counter'], 'primary_habitat')\n",
    "\n",
    "sites_df_habitat_cover_pv=sites_df_habitat_cover_pv.fillna(0)\n",
    "\n",
    "sites_df_habitat_cover_pv.rename_axis(None, axis=1, inplace=True)\n",
    "\n",
    "sites_df_habitat_cover_pv.columns=['primary_habitat_'+x.replace(\",\",\"\").strip().replace(\" \",\"_\")\\\n",
    "                                   for x in sites_df_habitat_cover_pv.columns]\n",
    "\n",
    "\n",
    "sites_df_habitat_cover_pv=sites_df_habitat_cover_pv.reset_index()\n",
    "\n",
    "sites_df_habitat_cover_pv=sites_df[['counter','geometry']].merge(sites_df_habitat_cover_pv,on=['counter'])"
   ]
  },
  {
   "attachments": {},
   "cell_type": "markdown",
   "id": "75dbe13b",
   "metadata": {},
   "source": [
    "# Density Based Clustering"
   ]
  },
  {
   "cell_type": "code",
   "execution_count": null,
   "id": "4036634d",
   "metadata": {},
   "outputs": [],
   "source": [
    "# Get all the area columns\n",
    "coordinates = sites_df_habitat_cover_pv.select_dtypes(include=np.number).values\n",
    "\n",
    "# Clustering: we choose cluster_size based on a few experiments\n",
    "# to reduce the number of sites which are classed as noise (-1).\n",
    "# Determining cluster size needs to be explored further.\n",
    "\n",
    "np.random.seed(8)\n",
    "labels = HDBSCAN(min_cluster_size=9).fit(coordinates).labels_\n",
    "\n",
    "counter_labels = collections.Counter(labels)\n",
    "\n",
    "print(counter_labels)\n",
    "\n",
    "# Draw convex hulls around sites belonging to a same cluster\n",
    "hulls = sites_df_habitat_cover_pv[[\"geometry\"]].to_crs(crs_deg).dissolve(by=labels).convex_hull"
   ]
  },
  {
   "cell_type": "code",
   "execution_count": null,
   "id": "d758f228",
   "metadata": {},
   "outputs": [],
   "source": [
    "#Visualise sites and clusters they belong to\n",
    "\n",
    "# Set up figure and axis\n",
    "f, ax = plt.subplots(1, figsize=(9, 9))\n",
    "# Plot individual Airbnb locations\n",
    "sites_df_habitat_cover_pv.to_crs(crs_deg).plot(\n",
    "    # Colour by cluster label\n",
    "    column=labels,\n",
    "    # Consider label as categorical\n",
    "    categorical=True,\n",
    "    # Add 50% of transparency\n",
    "    alpha=0.95,\n",
    "    # Include legend\n",
    "    legend=True,\n",
    "    # Draw on axis `ax`\n",
    "    ax=ax,\n",
    "    # Use circle as marker\n",
    "    marker=\"o\",\n",
    "    # Position legend outside the map\n",
    "    legend_kwds={\"bbox_to_anchor\": (1, 1), 'labels': [sites_df_habitat_cover_pv.labels.unique()[0], sites_df_habitat_cover_pv.labels.unique()[1], sites_df_habitat_cover_pv.labels.unique()[2]]})\n",
    "# Plot convex hull polygons for each cluster label\n",
    "# except that for -1 (observations classified as noise)\n",
    "# hulls[hulls.index != -1].boundary.plot(color=\"k\", ax=ax)\n",
    "# Add basemap\n",
    "contextily.add_basemap(\n",
    "    ax,\n",
    "    crs=sites_df_habitat_cover_pv.to_crs(crs_deg).crs.to_string(),\n",
    "    source=contextily.providers.CartoDB.Positron,\n",
    ")\n",
    "# Remove axes\n",
    "ax.set_axis_off()\n",
    "\n",
    "plt.savefig(f\"./outputs/habitat_class_map.png\", format= 'png', dpi=300, bbox_inches='tight')"
   ]
  },
  {
   "cell_type": "code",
   "execution_count": null,
   "id": "d940ef1e",
   "metadata": {},
   "outputs": [],
   "source": [
    "# Assign labels/clusters to each site\n",
    "sites_df_habitat_cover_pv['labels']=labels\n",
    "\n",
    "\n",
    "# column names for different area types\n",
    "ftrs_names_habitat=[x for x in sites_df_habitat_cover_pv.select_dtypes(include=np.number).columns \\\n",
    "                    if x not in ['labels']]"
   ]
  },
  {
   "attachments": {},
   "cell_type": "markdown",
   "id": "4046396d",
   "metadata": {},
   "source": [
    "# Visualisation"
   ]
  },
  {
   "cell_type": "code",
   "execution_count": null,
   "id": "ca3a2231",
   "metadata": {},
   "outputs": [],
   "source": [
    "# Area make up of each people counter lcocation\n",
    "df=sites_df_habitat_cover_pv.groupby(['counter'])[ftrs_names_habitat].sum().unstack().\\\n",
    "reset_index().sort_values(by='counter')\n",
    "\n",
    "df.rename(columns={'level_0':'habitat',0:'area_sq_km'},inplace=True)\n",
    "\n",
    "df2 = df.groupby([\"habitat\",\"counter\"]).mean().unstack(\"habitat\").fillna(0)\n",
    "\n",
    "df2['area_sq_km'].sample(25).plot.barh(stacked=True,colormap='Paired',figsize=(15,10))\n",
    "\n",
    "plt.xlabel('area_sq_km')"
   ]
  },
  {
   "cell_type": "code",
   "execution_count": null,
   "id": "626f1ac4",
   "metadata": {},
   "outputs": [],
   "source": [
    "# Looking at area make-up of each cluster: this will help us\n",
    "# identify a 'physical label' for each cluster\n",
    "df=sites_df_habitat_cover_pv.groupby(['labels'])[ftrs_names_habitat].mean().unstack().\\\n",
    "reset_index().sort_values(by='labels')\n",
    "\n",
    "df.rename(columns={'level_0':'habitat',0:'area_sq_km'},inplace=True)\n",
    "\n",
    "df2 = df.groupby([\"habitat\",\"labels\"]).mean().unstack(\"habitat\").fillna(0)\n",
    "\n",
    "df2['area_sq_km'].plot.barh(stacked=False,colormap='Paired',figsize=(15,5))\n",
    "\n",
    "plt.xlabel('area_sq_km')\n",
    "\n",
    "\n",
    "# Set up figure\n",
    "ftrs=\"area_sq_km\"\n",
    "f = plt.figure(figsize=(10, 5))\n",
    "# Add box plots of price by HDBSCAN cluster\n",
    "ax = df.boxplot(\n",
    "    # Plot distribution of 'price'\n",
    "    ftrs,\n",
    "    # Group by cluster label, generating one box plot/cluster\n",
    "    by='labels',\n",
    "    # Do not display individual outlier observations\n",
    "    #flierprops=dict(marker=None),\n",
    "    # Draw visualisation on the current axis (inside `f`)\n",
    "    ax=plt.gca(),\n",
    ")\n",
    "\n",
    "# Set label for horizontal axis\n",
    "ax.set_xlabel(\"HDBSCAN cluster (labels)\")\n",
    "# Set labels for vertical axis\n",
    "ax.set_ylabel(ftrs)\n",
    "\n",
    "# Remove default figure title\n",
    "plt.gcf().suptitle(None)\n",
    "# Remove default axis title\n",
    "ax.set_title(None)\n",
    "# Re-adjust vertical value range for easier legibility\n",
    "#ax.set_ylim(0, 1250);"
   ]
  },
  {
   "cell_type": "code",
   "execution_count": null,
   "id": "181179b2",
   "metadata": {},
   "outputs": [],
   "source": [
    "habt_clstr_map=dict(zip([-1,0,1],['Grassland_woodland_wetland','Grassland_woodland_coastal',\n",
    "                                  'Grassland_woodland_bareground']))\n",
    "\n",
    "sites_df_habitat_cover_pv['labels']=sites_df_habitat_cover_pv['labels'].map(habt_clstr_map)"
   ]
  },
  {
   "cell_type": "code",
   "execution_count": null,
   "id": "63c54191",
   "metadata": {},
   "outputs": [],
   "source": [
    "# Visualisation\n",
    "\n",
    "# Looking at area make-up of each cluster: \n",
    "# and now assigning a'physical label' for each cluster\n",
    "df=sites_df_habitat_cover_pv.groupby(['labels'])[ftrs_names_habitat].mean().unstack().\\\n",
    "reset_index().sort_values(by='labels')\n",
    "\n",
    "df.rename(columns={'level_0':'habitat',0:'area_sq_km'},inplace=True)\n",
    "\n",
    "df2 = df.groupby([\"habitat\",\"labels\"]).mean().unstack(\"habitat\").fillna(0)\n",
    "\n",
    "df2['area_sq_km'].plot.barh(stacked=True,colormap='Paired',figsize=(10, 5))\n",
    "\n",
    "\n",
    "plt.ylabel('Land Habitat Classification', fontsize=16)\n",
    "plt.yticks(fontsize=14, )\n",
    "plt.xlabel('Area in Km$^2$', fontsize=16)\n",
    "plt.xlim(0,75)\n",
    "plt.legend(fontsize=14, title= 'Habitat Type', title_fontsize='large', loc='upper right')\n",
    "\n",
    "plt.savefig(f\"./outputs/habitat_class_.png\", format= 'png', dpi=300, bbox_inches='tight')\n"
   ]
  },
  {
   "cell_type": "code",
   "execution_count": null,
   "id": "d7461d7b",
   "metadata": {},
   "outputs": [],
   "source": [
    "# Set up figure\n",
    "ftrs=\"area_sq_km\"\n",
    "f = plt.figure(figsize=(10, 5))\n",
    "# Add box plots of price by HDBSCAN cluster\n",
    "ax = df.boxplot(\n",
    "    # Plot distribution of 'price'\n",
    "    ftrs,\n",
    "    # Group by cluster label, generating one box plot/cluster\n",
    "    by='labels',\n",
    "    # Do not display individual outlier observations\n",
    "    #flierprops=dict(marker=None),\n",
    "    # Draw visualisation on the current axis (inside `f`)\n",
    "    ax=plt.gca(),\n",
    ")\n",
    "# Set label for horizontal axis\n",
    "ax.set_xlabel(\"HDBSCAN cluster (labels)\")\n",
    "# Set labels for vertical axis\n",
    "ax.set_ylabel(ftrs)\n",
    "\n",
    "# Remove default figure title\n",
    "plt.gcf().suptitle(None)\n",
    "# Remove default axis title\n",
    "ax.set_title(None)\n",
    "# Re-adjust vertical value range for easier legibility\n",
    "#ax.set_ylim(0, 1250);"
   ]
  },
  {
   "cell_type": "code",
   "execution_count": null,
   "id": "2fdaeafe",
   "metadata": {},
   "outputs": [],
   "source": [
    "sites_df_habitat_cover_pv.to_pickle(data_folder+'land_habitat_clusters.pkl')"
   ]
  }
 ],
 "metadata": {
  "kernelspec": {
   "display_name": "base",
   "language": "python",
   "name": "python3"
  },
  "language_info": {
   "codemirror_mode": {
    "name": "ipython",
    "version": 3
   },
   "file_extension": ".py",
   "mimetype": "text/x-python",
   "name": "python",
   "nbconvert_exporter": "python",
   "pygments_lexer": "ipython3",
   "version": "3.9.12 (main, Apr  5 2022, 01:53:17) \n[Clang 12.0.0 ]"
  },
  "vscode": {
   "interpreter": {
    "hash": "fec184d30afd030858da285c353de3565cbb1141a676f86e0b3a02c882ab620d"
   }
  }
 },
 "nbformat": 4,
 "nbformat_minor": 5
}
