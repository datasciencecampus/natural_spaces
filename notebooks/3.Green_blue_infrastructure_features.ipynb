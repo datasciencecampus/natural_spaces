{
 "cells": [
  {
   "attachments": {},
   "cell_type": "markdown",
   "id": "1b5c5a78",
   "metadata": {},
   "source": [
    "# Accessible Green & Blue Infrastructure across England"
   ]
  },
  {
   "attachments": {},
   "cell_type": "markdown",
   "id": "725bf854",
   "metadata": {},
   "source": [
    "Below are the data sources for features relating to Green and Blue infrastructure in England\n",
    "\n",
    " NE Green Infrastructure layers (open) Accessible Greenspace\n",
    "\n",
    "https://www.data.gov.uk/dataset/f335ab3a-f670-467f-bedd-80bdd8f1ace6/green-and-blue-infrastructure-england\n",
    "\n",
    "https://s3.eu-west-1.amazonaws.com/data.defra.gov.uk/Natural_England/Access_Green_Infrastructure/Green_and_Blue_Infrastructure_NE/Green_and_Blue_Infrastructure_Opendata_NE_Geopackage.zip\n",
    "\n",
    "Download provides accompanying metadat for dataset where details of the features of each layer in the geopkg can be found:\n",
    "Green_and_Blue_Infrastructure_Opendata_NE_Geopackage/GI_Access_Maps/Metadata/Green_Infrastructure_Access_Maps_Open_Data_Attribute_Metadata.pdf"
   ]
  },
  {
   "cell_type": "code",
   "execution_count": null,
   "id": "6310564f",
   "metadata": {},
   "outputs": [],
   "source": [
    "%load_ext autoreload\n",
    "%autoreload 2\n",
    "\n",
    "# All the variables are defined in the Config file\n",
    "from model_config import *\n",
    "from model_packages import *\n",
    "from model_utils import *"
   ]
  },
  {
   "cell_type": "code",
   "execution_count": null,
   "id": "2959656c",
   "metadata": {},
   "outputs": [],
   "source": [
    "os.chdir('..')"
   ]
  },
  {
   "attachments": {},
   "cell_type": "markdown",
   "id": "fd01c55c",
   "metadata": {},
   "source": [
    "# Feature Extraction"
   ]
  },
  {
   "attachments": {},
   "cell_type": "markdown",
   "id": "69fd66b2",
   "metadata": {},
   "source": [
    "## Green Infrastructure"
   ]
  },
  {
   "cell_type": "markdown",
   "id": "cc4e81fa",
   "metadata": {},
   "source": [
    "A series of geodatabases that contain a range of spatial datasets. These datasets describe the location and geographical extent of different types of Green and Blue Infrastructure across England. The datasets highlight accessibility levels, display greenspace provision and natural greenspace standards in a spatial context and present it alongside a wide range of social statistics. "
   ]
  },
  {
   "cell_type": "code",
   "execution_count": null,
   "id": "0b96c95e",
   "metadata": {},
   "outputs": [],
   "source": [
    "# We have to choose appropriate layers\n",
    "\n",
    "for layername in fiona.listlayers(GI_Access_maps):\n",
    "    with fiona.open(GI_Access_maps, layer=layername) as src:\n",
    "        print(layername, len(src))"
   ]
  },
  {
   "cell_type": "code",
   "execution_count": null,
   "id": "19909eea",
   "metadata": {},
   "outputs": [],
   "source": [
    "# Spatial dataset describing the location and geographical extent of different types\n",
    "# of Green and Blue Infrastructure across England, based on a systematic typology system.\n",
    "# This includes both accessible and non-accessible Green Infrastructure areas.\n",
    "\n",
    "geopkg = gpd.read_file(GI_Access_maps,layer='Map1_OGL')\n",
    "\n",
    "accessible_geopkg=geopkg[(geopkg['Accessible']=='Yes')].reset_index(drop=True)\n",
    "\n",
    "accessible_geopkg=accessible_geopkg[['TypologyTitle','geometry']]\n",
    "\n",
    "sites_df=gpd.read_file(data_folder+'accessibility.shp')\n",
    "\n",
    "sites_df=sites_df[sites_df['geom_type']=='5km buffer'].reset_index(drop=True)\n",
    "\n",
    "accessible_geopkg_sites = accessible_geopkg.to_crs(crs_mtr).\\\n",
    "overlay(sites_df[[x for x in sites_df.columns if x not in ['area']]].to_crs(crs_mtr), how='intersection')\n",
    "\n",
    "# save dataframe of accessible green and blue infrastructure sites intersected with 5km buffer zones around people counter locations\n",
    "accessible_geopkg_sites.to_pickle(data_folder+'accessible_geopkg_sites.pkl')"
   ]
  },
  {
   "cell_type": "code",
   "execution_count": null,
   "id": "614f72dd",
   "metadata": {},
   "outputs": [],
   "source": [
    "# visualisation of accessible green spaces in the vicinity of the people counter sites\n",
    "world = gpd.read_file(world_boundaries)\n",
    "\n",
    "uk = world[world.name == 'U.K. of Great Britain and Northern Ireland'] \n",
    "\n",
    "uk=uk.to_crs(crs_deg)\n",
    "\n",
    "\n",
    "ax=uk.plot(alpha=0.1,figsize=(5,10))\n",
    "accessible_geopkg_sites.to_crs(crs_deg).plot(ax=ax,alpha=1,color='green')"
   ]
  },
  {
   "attachments": {},
   "cell_type": "markdown",
   "id": "28e8e0a5",
   "metadata": {},
   "source": [
    "## Accessible woodlands"
   ]
  },
  {
   "cell_type": "code",
   "execution_count": null,
   "id": "447f0fae",
   "metadata": {},
   "outputs": [],
   "source": [
    "# accessible woodlands\n",
    "\n",
    "# This spatial dataset shows the geographical extent and location of woodlands across England.\n",
    "# The dataset also highlights accessible woodlands along with showing non-accessible woodlands\n",
    "# and woodlands with linear access by ProW.\n",
    "\n",
    "geopkg_4 = gpd.read_file(GI_Access_maps,layer='Map4')\n",
    "geopkg_4=geopkg_4[geopkg_4['AccessLevel']!='Non Accessible']\n",
    "\n",
    "\n",
    "accessible_geopkg_4_sites = geopkg_4.to_crs(crs_mtr).\\\n",
    "overlay(sites_df[[x for x in sites_df.columns if x not in ['area']]].to_crs(crs_mtr), how='intersection')"
   ]
  },
  {
   "cell_type": "code",
   "execution_count": null,
   "id": "f50e7729",
   "metadata": {},
   "outputs": [],
   "source": [
    "world = gpd.read_file(world_boundaries)\n",
    "\n",
    "uk = world[world.name == 'U.K. of Great Britain and Northern Ireland'] \n",
    "\n",
    "uk=uk.to_crs(crs_deg)\n",
    "\n",
    "\n",
    "ax=uk.plot(alpha=0.1,figsize=(5,5))\n",
    "accessible_geopkg_4_sites.to_crs(crs_deg).plot(ax=ax,alpha=1,color='green')"
   ]
  },
  {
   "attachments": {},
   "cell_type": "markdown",
   "id": "0ff0284f",
   "metadata": {},
   "source": [
    "## Public right of Way"
   ]
  },
  {
   "cell_type": "code",
   "execution_count": null,
   "id": "d44f2217",
   "metadata": {},
   "outputs": [],
   "source": [
    "# ProW Density Grid (PRoW Density (m per 1km square))\n",
    "# This spatial dataset is a 1km grid of England showing \n",
    "# the density of ProW each grid square.\n",
    "geopkg_5 = gpd.read_file(GI_Access_maps,layer='England_ProwDensity_1kmGrid')\n",
    "\n",
    "geopkg_5=geopkg_5[['PROW_Total_length_m','geometry']]\n",
    "\n",
    "accessible_geopkg_5_sites = geopkg_5.to_crs(crs_mtr).\\\n",
    "overlay(sites_df[[x for x in sites_df.columns if x not in ['area']]].to_crs(crs_mtr), how='intersection')\n",
    "\n",
    "accessible_geopkg_5_sites.to_pickle(data_folder+'accessible_geopkg_5_sites.pkl')\n",
    "\n",
    "# create total lenght of PROW for each counter buffer zone in Km\n",
    "accessible_geopkg_5_sites=accessible_geopkg_5_sites.groupby('counter')['PROW_Total_length_m'].sum().reset_index()\n",
    "accessible_geopkg_5_sites['PROW_Total_length_km']=accessible_geopkg_5_sites['PROW_Total_length_m']/(10**3)"
   ]
  },
  {
   "attachments": {},
   "cell_type": "markdown",
   "id": "28498965",
   "metadata": {},
   "source": [
    "## Inland Waterside"
   ]
  },
  {
   "cell_type": "code",
   "execution_count": null,
   "id": "0eb805b2",
   "metadata": {},
   "outputs": [],
   "source": [
    "#Inland waterside – ProW ANG\n",
    "#This spatial dataset shows the geographical extent\n",
    "#and location of inland waterside across England that\n",
    "#intersects with the ProW network and areas of Accessible Natural Greenspace\n",
    "\n",
    "\n",
    "for layername in fiona.listlayers(Blue_Infrastructure_Waterside):\n",
    "    with fiona.open(Blue_Infrastructure_Waterside, layer=layername) as src:\n",
    "        print(layername, len(src))"
   ]
  },
  {
   "cell_type": "code",
   "execution_count": null,
   "id": "a814d40a",
   "metadata": {},
   "outputs": [],
   "source": [
    "# read layer corresponding to Inland Waterside PROW\n",
    "geopkg_wtr = gpd.read_file(Blue_Infrastructure_Waterside,layer='Inland_Waterside_PROW_ANG')\n",
    "\n",
    "# find the intersection of inland waterside PROW with people counter buffer zones\n",
    "geopkg_wtr_sites = geopkg_wtr.to_crs(crs_mtr).\\\n",
    "overlay(sites_df[[x for x in sites_df.columns if x not in ['area']]].to_crs(crs_mtr), how='intersection')\n",
    "\n",
    "#https://geopandas.org/en/stable/docs/reference/api/geopandas.GeoSeries.length.html\n",
    "\n",
    "geopkg_wtr_sites=geopkg_wtr_sites[['counter','geometry']]\n",
    "\n",
    "# find the length of each instance inland waterside PROW within buffer zone \n",
    "geopkg_wtr_sites['length']=geopkg_wtr_sites.length\n",
    "\n",
    "geopkg_wtr_sites.to_pickle(data_folder+'geopkg_wtr_sites.pkl')\n",
    "\n",
    "# create total lenght of inland waterside access for each counter buffer zone in Km\n",
    "geopkg_wtr_sites=geopkg_wtr_sites.groupby('counter')['length'].sum().reset_index()\n",
    "geopkg_wtr_sites['waterside_length_km']=geopkg_wtr_sites['length']/(10**3)"
   ]
  },
  {
   "attachments": {},
   "cell_type": "markdown",
   "id": "f3c2247c",
   "metadata": {},
   "source": [
    "## Collating all features: Accessible Greenspaces, Public rights of way, accessible inland waterside"
   ]
  },
  {
   "cell_type": "code",
   "execution_count": null,
   "id": "2df1b071",
   "metadata": {},
   "outputs": [],
   "source": [
    "accessible_geopkg_sites=pd.read_pickle(data_folder+'accessible_geopkg_sites.pkl')\n",
    "accessible_geopkg_sites['accessible_green_space_area']=accessible_geopkg_sites.area\n",
    "accessible_geopkg_sites=accessible_geopkg_sites.groupby('counter')['accessible_green_space_area'].\\\n",
    "sum().reset_index()\n",
    "accessible_geopkg_sites['accessible_green_space_area']=accessible_geopkg_sites['accessible_green_space_area']/\\\n",
    "(10**6)\n",
    "\n",
    "accessible_geopkg_5_sites=pd.read_pickle(data_folder+'accessible_geopkg_5_sites.pkl')\n",
    "accessible_geopkg_5_sites=accessible_geopkg_5_sites.groupby('counter')['PROW_Total_length_m'].sum().reset_index()\n",
    "accessible_geopkg_5_sites['PROW_Total_length_km']=accessible_geopkg_5_sites['PROW_Total_length_m']/(10**3)\n",
    "\n",
    "geopkg_wtr_sites=pd.read_pickle(data_folder+'geopkg_wtr_sites.pkl')\n",
    "geopkg_wtr_sites=geopkg_wtr_sites.groupby('counter')['length'].sum().reset_index()\n",
    "geopkg_wtr_sites['waterside_length_km']=geopkg_wtr_sites['length']/(10**3)\n",
    "\n",
    "world = gpd.read_file(world_boundaries)\n",
    "\n",
    "uk = world[world.name == 'U.K. of Great Britain and Northern Ireland'] \n",
    "\n",
    "uk=uk.to_crs(crs_deg)\n",
    "\n"
   ]
  },
  {
   "attachments": {},
   "cell_type": "markdown",
   "id": "87552364",
   "metadata": {},
   "source": [
    "## Save and export all features "
   ]
  },
  {
   "cell_type": "code",
   "execution_count": null,
   "id": "7d7e666a",
   "metadata": {},
   "outputs": [],
   "source": [
    "# join all features\n",
    "\n",
    "green_blue_prows_ftrs=[accessible_geopkg_sites,geopkg_wtr_sites,accessible_geopkg_5_sites]\n",
    "\n",
    "\n",
    "df_green_blue_prows_ftrs= reduce(lambda  left,right: pd.merge(left,right,on=['counter'],how='inner'),\\\n",
    "                                 green_blue_prows_ftrs)"
   ]
  },
  {
   "cell_type": "code",
   "execution_count": null,
   "id": "4af3c172",
   "metadata": {},
   "outputs": [],
   "source": [
    "df_green_blue_prows_ftrs.to_pickle(data_folder+'green_blue_prow_ftrs.pkl')"
   ]
  },
  {
   "cell_type": "code",
   "execution_count": null,
   "id": "e4fcc3c0",
   "metadata": {},
   "outputs": [],
   "source": [
    "df_green_blue_prows_ftrs.shape"
   ]
  }
 ],
 "metadata": {
  "kernelspec": {
   "display_name": "req_old",
   "language": "python",
   "name": "python3"
  },
  "language_info": {
   "codemirror_mode": {
    "name": "ipython",
    "version": 3
   },
   "file_extension": ".py",
   "mimetype": "text/x-python",
   "name": "python",
   "nbconvert_exporter": "python",
   "pygments_lexer": "ipython3",
   "version": "3.10.9 (main, Jan 11 2023, 14:59:37) [Clang 14.0.0 (clang-1400.0.29.202)]"
  },
  "vscode": {
   "interpreter": {
    "hash": "73dd042dec22895802a5cf4c230cd0d0aa33a4e312107f26490806e8c532eb8a"
   }
  }
 },
 "nbformat": 4,
 "nbformat_minor": 5
}
