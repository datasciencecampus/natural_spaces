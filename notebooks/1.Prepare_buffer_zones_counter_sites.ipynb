{
 "cells": [
  {
   "attachments": {},
   "cell_type": "markdown",
   "id": "d7978392",
   "metadata": {},
   "source": [
    "This notebook produces a table of all the people monitoring sites for which we have access to. Currently we have access to training data for Natural England and North Downs Way sites only."
   ]
  },
  {
   "cell_type": "code",
   "execution_count": null,
   "id": "86d9b6ff",
   "metadata": {},
   "outputs": [],
   "source": [
    "os.chdir('..')"
   ]
  },
  {
   "cell_type": "code",
   "execution_count": null,
   "id": "0b4e4080",
   "metadata": {},
   "outputs": [],
   "source": [
    "%load_ext autoreload\n",
    "%autoreload 2\n",
    "\n",
    "\n",
    "\n",
    "from model_config import *\n",
    "from model_packages import *\n",
    "from model_utils import *\n"
   ]
  },
  {
   "cell_type": "code",
   "execution_count": null,
   "id": "866b3270",
   "metadata": {},
   "outputs": [],
   "source": [
    "# Assigns latitude and longitude values from the counter geometry data.\n",
    "\n",
    "# Natural England counter data\n",
    "NE_counter_locations=assgn_lat_lon(ne_countr_locn_file,'counter')\n",
    "\n",
    "# North downs way counter data\n",
    "north_downs_counter_locations=assgn_lat_lon(ndw_countr_locn_file,'counter')\n",
    "\n",
    "# Potential data provider counter data\n",
    "canal_trst_counter_locations=assgn_lat_lon(crt_countr_locn_file,'Counter')\\\n",
    "[['Counter','latitude','longitude','geometry']]\n",
    "\n",
    "canal_trst_counter_locations.rename(columns={'Counter':'counter'},inplace=True)"
   ]
  },
  {
   "cell_type": "code",
   "execution_count": null,
   "id": "5d5134c4",
   "metadata": {},
   "outputs": [],
   "source": [
    "# collate all counter locations\n",
    "\n",
    "all_counter_location=pd.concat([NE_counter_locations,north_downs_counter_locations,\\\n",
    "                                canal_trst_counter_locations]).reset_index(drop=True)"
   ]
  },
  {
   "cell_type": "code",
   "execution_count": null,
   "id": "66dbc0dc",
   "metadata": {},
   "outputs": [],
   "source": [
    "# Change the projection from deg to metres before applying buffer\n",
    "all_counter_location=all_counter_location.to_crs(crs_mtr)\n",
    "\n",
    "# Define a 5km buffer buffer zone around every counter site\n",
    "all_counter_location.geometry=all_counter_location.buffer(bufr_zones_mrts)\n",
    "all_counter_location['area']=all_counter_location.area/(10**6)\n",
    "all_counter_location['geom_type']='5km buffer'"
   ]
  },
  {
   "cell_type": "code",
   "execution_count": null,
   "id": "97fc78ac",
   "metadata": {},
   "outputs": [],
   "source": [
    "#Keep relevant columns\n",
    "all_counter_location=all_counter_location[[x for x in all_counter_location.columns if \\\n",
    "                                           x not in ['latitude','longitude']]]"
   ]
  },
  {
   "attachments": {},
   "cell_type": "markdown",
   "id": "a4465209",
   "metadata": {},
   "source": [
    "## Plotting Anonymised counter locations"
   ]
  },
  {
   "cell_type": "code",
   "execution_count": null,
   "id": "34ff2c8b",
   "metadata": {},
   "outputs": [],
   "source": [
    "# anonymise x,y coordinates by selecting random angle and adjusting a given displacement in that direction\n",
    "\n",
    "NE_counter_locations= anonymise_coordinates(NE_counter_locations, 5000)\n",
    "\n",
    "north_downs_counter_locations= anonymise_coordinates(north_downs_counter_locations, 5000)\n",
    "\n",
    "canal_trst_counter_locations= anonymise_coordinates(canal_trst_counter_locations, 5000)"
   ]
  },
  {
   "cell_type": "code",
   "execution_count": null,
   "id": "041f4a16",
   "metadata": {},
   "outputs": [],
   "source": [
    "train_sites=pd.concat([NE_counter_locations, north_downs_counter_locations])\n",
    "train_sites.geometry=train_sites.geometry.centroid\n"
   ]
  },
  {
   "cell_type": "code",
   "execution_count": null,
   "id": "9da0a21b",
   "metadata": {},
   "outputs": [],
   "source": [
    "color_palette = sns.color_palette(\"colorblind\")\n",
    "fig, ax = plt.subplots()\n",
    "# Visualisation of all the counter locations anonymised\n",
    "NE_counter_locations.plot(ax=ax, color=color_palette[1], marker='+',label='Natural England sites :{}'.\\\n",
    "                             format(NE_counter_locations.shape[0]))\n",
    "contextily.add_basemap(ax,crs= crs_mtr,source=contextily.providers.Esri.WorldGrayCanvas)\n",
    "\n",
    "north_downs_counter_locations.plot(ax=ax,color=color_palette[2], marker='o',label='North Downs Way sites :{}'.\\\n",
    "                                   format(north_downs_counter_locations.shape[0]))\n",
    "contextily.add_basemap(ax,crs= crs_mtr,source=contextily.providers.Esri.WorldGrayCanvas)\n",
    "\n",
    "canal_trst_counter_locations.plot(ax=ax,color='green',label='Canal river trust sites :{}'.\\\n",
    "                                  format(canal_trst_counter_locations.shape[0]))\n",
    "contextily.add_basemap(ax,crs= crs_mtr,source=contextily.providers.Esri.WorldGrayCanvas, zoom=10)\n",
    "\n",
    "ax.legend(loc='best', bbox_to_anchor=(0.45,0.15), frameon=1, facecolor='white')\n",
    "# frame= ax.legend.get_frame()\n",
    "ax.axis('off')\n",
    "\n",
    "\n",
    "pathlib.Path(f\"./outputs/\").mkdir(parents=True, exist_ok=True)\n",
    "# fig.savefig(f\"./outputs/sites_x_source_NE_NDW.png\", format= 'png', dpi=300, bbox_inches='tight')"
   ]
  }
 ],
 "metadata": {
  "kernelspec": {
   "display_name": "req_old",
   "language": "python",
   "name": "python3"
  },
  "language_info": {
   "codemirror_mode": {
    "name": "ipython",
    "version": 3
   },
   "file_extension": ".py",
   "mimetype": "text/x-python",
   "name": "python",
   "nbconvert_exporter": "python",
   "pygments_lexer": "ipython3",
   "version": "3.10.9"
  },
  "vscode": {
   "interpreter": {
    "hash": "73dd042dec22895802a5cf4c230cd0d0aa33a4e312107f26490806e8c532eb8a"
   }
  }
 },
 "nbformat": 4,
 "nbformat_minor": 5
}
