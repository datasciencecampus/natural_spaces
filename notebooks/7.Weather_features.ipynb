{
 "cells": [
  {
   "attachments": {},
   "cell_type": "markdown",
   "id": "4911df56",
   "metadata": {},
   "source": [
    "# 7. Weather Features"
   ]
  },
  {
   "cell_type": "markdown",
   "id": "8157d5c2",
   "metadata": {},
   "source": [
    "\n",
    "This notebook pulls historical weather data for each individual people monitoring sites making use of meteostat package.\n",
    "\n",
    "https://meteostat.net/en/blog/obtain-weather-data-any-location-python\n",
    "\n"
   ]
  },
  {
   "cell_type": "code",
   "execution_count": null,
   "id": "36229b92",
   "metadata": {},
   "outputs": [],
   "source": [
    "%load_ext autoreload\n",
    "%autoreload 2\n",
    "\n",
    "from model_packages import *\n",
    "\n",
    "# All the variables are defined in the Config file\n",
    "from model_config import *\n",
    "\n",
    "from model_utils import *"
   ]
  },
  {
   "cell_type": "code",
   "execution_count": null,
   "id": "67307ef3",
   "metadata": {},
   "outputs": [],
   "source": [
    "os.chdir('..')"
   ]
  },
  {
   "attachments": {},
   "cell_type": "markdown",
   "id": "8dec3152",
   "metadata": {},
   "source": [
    "# Format People Counter site data"
   ]
  },
  {
   "cell_type": "code",
   "execution_count": null,
   "id": "f1d30500",
   "metadata": {},
   "outputs": [],
   "source": [
    "# read counter locations\n",
    "\n",
    "loctns=gpd.read_file(data_folder+'accessibility.shp')\n",
    "loctns=loctns[loctns['geom_type']=='5km buffer'].reset_index(drop=True)\n",
    "\n",
    "loctns.geometry=loctns.geometry.centroid\n",
    "\n",
    "loctns=loctns.to_crs(crs_deg)\n",
    "\n",
    "# reformat the counter dataset\n",
    "indx=0\n",
    "all_weather_site=[]\n",
    "for sites in list(loctns['counter']):  \n",
    "   lat=loctns[loctns['counter']==sites].geometry.y[indx]\n",
    "   lon=loctns[loctns['counter']==sites].geometry.x[indx]\n",
    "   pnt=Point(lat,lon)\n",
    "   all_weather_site.append([sites,lat,lon])\n",
    "   indx+=1"
   ]
  },
  {
   "attachments": {},
   "cell_type": "markdown",
   "id": "2c486b8d",
   "metadata": {},
   "source": [
    "# Extract Weather data"
   ]
  },
  {
   "cell_type": "code",
   "execution_count": null,
   "id": "845e8a9a",
   "metadata": {},
   "outputs": [],
   "source": [
    "# Get weather data from the nearest monitoring station of each site\n",
    "approxmt_wthr_df=[]\n",
    "for nrst_stsns in range(len(all_weather_site)):\n",
    "    # Get nearby weather stations\n",
    "    stations = Stations()\n",
    "    # select site from people counters\n",
    "    stn_loc=all_weather_site[nrst_stsns][1:][0],all_weather_site[nrst_stsns][1:][1]\n",
    "    \n",
    "    #select nearby weather stations \n",
    "    stations = stations.nearby(stn_loc[0],stn_loc[1])\n",
    "    station = stations.fetch(1)\n",
    "    st_wthr_loc= Point(station['latitude'][0],station['longitude'][0])\n",
    "    \n",
    "    # extract weatger data between 2020-01-01 and 2022-12-31\n",
    "    data = Monthly(st_wthr_loc, start, end)\n",
    "    \n",
    "    data = data.fetch()\n",
    "    \n",
    "    data['site']=all_weather_site[nrst_stsns][0]\n",
    "    \n",
    "    if len(data)==0:\n",
    "        print(station)\n",
    "    \n",
    "    # append dara to dataframe\n",
    "    approxmt_wthr_df.append(data)"
   ]
  },
  {
   "cell_type": "code",
   "execution_count": null,
   "id": "38799457",
   "metadata": {},
   "outputs": [],
   "source": [
    "# Gather all weather data for each site\n",
    "approxmt_wthr_df=pd.concat(approxmt_wthr_df)\n",
    "\n",
    "weather_df=approxmt_wthr_df.reset_index()[['time','tavg','site']]\n",
    "\n",
    "weather_df=weather_df.groupby(['site','time'])['tavg'].mean().reset_index()\n",
    "\n",
    "# split into list of subset dataframes one for each site\n",
    "weather_df_splt =[x for _, x in weather_df.groupby('site')]\n",
    "\n",
    "\n",
    "\n",
    "#CJ: Is this the best way to deal with Nans ?\n",
    "weather_df_splt=[x.dropna(how='all').fillna(method=\"ffill\").fillna(method='bfill') for x in weather_df_splt]\n",
    "\n",
    "# concatenate subsets after dealing with NaNs\n",
    "weather_df=pd.concat(weather_df_splt)\n",
    "\n",
    "# data wrangling \n",
    "weather_df.rename(columns={'time':'Date'},inplace=True)\n",
    "weather_df['Date']=weather_df['Date'].dt.to_period('M')\n",
    "# save and export weather data\n",
    "weather_df.to_pickle(data_folder+'weather_df.pkl')\n",
    "\n"
   ]
  },
  {
   "cell_type": "code",
   "execution_count": null,
   "id": "47c8a68a",
   "metadata": {},
   "outputs": [],
   "source": [
    "# check for null values\n",
    "print('Any null values: {}'.format(weather_df.isna().sum(axis=0)))"
   ]
  },
  {
   "attachments": {},
   "cell_type": "markdown",
   "id": "acb5ecd7",
   "metadata": {},
   "source": [
    "# Visualisation"
   ]
  },
  {
   "cell_type": "code",
   "execution_count": null,
   "id": "e455f826",
   "metadata": {},
   "outputs": [],
   "source": [
    "rndm_sites=random.sample(list(weather_df['site'].unique()), 5)"
   ]
  },
  {
   "cell_type": "code",
   "execution_count": null,
   "id": "c4025854",
   "metadata": {},
   "outputs": [],
   "source": [
    "for site in rndm_sites:\n",
    "    weather_df[weather_df['site']==site].set_index('Date')['tavg'].plot(label=site)\n",
    "    plt.legend()\n",
    "    plt.ylabel('tavg')\n",
    "\n"
   ]
  }
 ],
 "metadata": {
  "kernelspec": {
   "display_name": "base",
   "language": "python",
   "name": "python3"
  },
  "language_info": {
   "codemirror_mode": {
    "name": "ipython",
    "version": 3
   },
   "file_extension": ".py",
   "mimetype": "text/x-python",
   "name": "python",
   "nbconvert_exporter": "python",
   "pygments_lexer": "ipython3",
   "version": "3.9.12 (main, Apr  5 2022, 01:53:17) \n[Clang 12.0.0 ]"
  },
  "vscode": {
   "interpreter": {
    "hash": "fec184d30afd030858da285c353de3565cbb1141a676f86e0b3a02c882ab620d"
   }
  }
 },
 "nbformat": 4,
 "nbformat_minor": 5
}
