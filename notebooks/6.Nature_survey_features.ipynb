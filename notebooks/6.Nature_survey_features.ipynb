{
 "cells": [
  {
   "attachments": {},
   "cell_type": "markdown",
   "id": "aec27cdd",
   "metadata": {},
   "source": [
    "# 6. People and Nature Survey Features"
   ]
  },
  {
   "attachments": {},
   "cell_type": "markdown",
   "id": "a6833fad",
   "metadata": {},
   "source": [
    "\n",
    "The People and Nature Survey for England gathers evidence and trend data through an online survey relating to people’s enjoyment, access, understanding of and attitudes to the natural environment, and it’s contributions to wellbeing.\n",
    "\n",
    "https://www.gov.uk/government/collections/people-and-nature-survey-for-england\n",
    "\n",
    "We collect relevant features from this datasource for the modelling purpose. Specifically, we will find mean dog occupancy in buffer areas around each counter site.\n",
    "\n",
    "People and Nature Survey for England - Year 2 - Quarter 1 to Quarter 4 data\n",
    "https://www.gov.uk/government/statistics/the-people-and-nature-survey-for-england-year-2-annual-report-data-and-publications-april-2021-march-2022-official-statistics-main-findings"
   ]
  },
  {
   "cell_type": "code",
   "execution_count": null,
   "id": "5a653220",
   "metadata": {},
   "outputs": [],
   "source": [
    "%load_ext autoreload\n",
    "%autoreload 2\n",
    "\n",
    "# All the variables are defined in the Config file\n",
    "from model_config import *\n",
    "from model_packages import *\n",
    "from model_utils import *"
   ]
  },
  {
   "cell_type": "code",
   "execution_count": null,
   "id": "6300d3a4",
   "metadata": {},
   "outputs": [],
   "source": [
    "os.chdir('..')"
   ]
  },
  {
   "attachments": {},
   "cell_type": "markdown",
   "id": "f9638324",
   "metadata": {},
   "source": [
    "# Survey Data Wrangling"
   ]
  },
  {
   "cell_type": "code",
   "execution_count": null,
   "id": "3b8add40",
   "metadata": {},
   "outputs": [],
   "source": [
    "# read in data\n",
    "df_y_2_survey=pd.ExcelFile(survey+'PANS_Y2_Q1_Q4.xlsx')\n",
    "df_y_2_survey_data = pd.read_excel(df_y_2_survey, 'Data')"
   ]
  },
  {
   "cell_type": "code",
   "execution_count": null,
   "id": "655ce8b6",
   "metadata": {},
   "outputs": [],
   "source": [
    "# data wrangling to get year an month of visit\n",
    "df_y_2_survey_data['Visit_Week']=pd.to_datetime(df_y_2_survey_data['Visit_Week'].astype(str),errors='coerce')\n",
    "df_y_2_survey_data=df_y_2_survey_data[~df_y_2_survey_data.Visit_Week.isnull()].reset_index(drop=True)\n",
    "df_y_2_survey_data['Visit_Week']=df_y_2_survey_data['Visit_Week'].dt.to_period('M')\n",
    "df_y_2_survey_data.rename(columns={'Visit_Week':'Date'},inplace=True)"
   ]
  },
  {
   "cell_type": "code",
   "execution_count": null,
   "id": "34e64bd5",
   "metadata": {},
   "outputs": [],
   "source": [
    "# visualise numbe of visitors in each month for the data set\n",
    "df_y_2_survey_data.groupby('Date')['No_Of_Visits'].sum().plot()"
   ]
  },
  {
   "cell_type": "code",
   "execution_count": null,
   "id": "9c758518",
   "metadata": {},
   "outputs": [],
   "source": [
    "df_y_2_survey_data_sbset=df_y_2_survey_data[ftrs_selection]\n",
    "\n",
    "#drop rows with missing values in visited locations\n",
    "df_y_2_survey_data_sbset=df_y_2_survey_data_sbset.dropna(subset=['No_Of_Visits','Date',\\\n",
    "                                                                 'Visit_Latitude','Visit_Longitude']).\\\n",
    "reset_index(drop=True)"
   ]
  },
  {
   "attachments": {},
   "cell_type": "markdown",
   "id": "82e6297b",
   "metadata": {},
   "source": [
    "## Intersect Survey data and buffer zones for people counters"
   ]
  },
  {
   "cell_type": "code",
   "execution_count": null,
   "id": "4bc095e2",
   "metadata": {},
   "outputs": [],
   "source": [
    "# Get the in-land geometries for buffer zones around each people monitoring sites\n",
    "\n",
    "# load uk boundaries\n",
    "world = gpd.read_file(world_boundaries)\n",
    "uk = world[world.name == 'U.K. of Great Britain and Northern Ireland'] \n",
    "uk=uk.to_crs(crs_mtr)\n",
    "print(uk.crs)\n",
    "\n",
    "# load 5km buffer zones\n",
    "sites_df=gpd.read_file(data_folder+'accessibility.shp')\n",
    "sites_df=sites_df[sites_df['geom_type']=='5km buffer'].reset_index(drop=True)\n",
    "del sites_df['area']\n",
    "# overlay buffer geometries and uk boundaries\n",
    "sites_df = sites_df[[x for x in sites_df.columns if x not in ['area']]].to_crs(crs_mtr).\\\n",
    "overlay(uk.to_crs(crs_mtr), how='intersection')\n",
    "\n",
    "# visualise \n",
    "ax=uk.to_crs(crs_deg).plot(alpha=0.1)\n",
    "sites_df.to_crs(crs_deg).plot(ax=ax)"
   ]
  },
  {
   "cell_type": "code",
   "execution_count": null,
   "id": "3b1cebb8",
   "metadata": {},
   "outputs": [],
   "source": [
    "# convert survey data to geodataframe\n",
    "df=df_y_2_survey_data_sbset.copy()\n",
    "\n",
    "del df['Visit_Easting']\n",
    "\n",
    "del df['Visit_Northing']\n",
    "\n",
    "df.rename(columns={'Visit_Longitude':'Longitude',\\\n",
    "                   'Visit_Latitude':'Latitude'},inplace=True)\n",
    "\n",
    "# use visit latitude and longitude to create geodataframe\n",
    "gdf = gpd.GeoDataFrame(df,geometry=gpd.points_from_xy(df.Longitude,df.Latitude)).set_crs(crs_deg)\n",
    "# ensure crs of survey and buffer zones match \n",
    "gdf=gdf.to_crs(crs_mtr)\n",
    "print(sites_df.crs)\n",
    "print(gdf.crs)\n",
    "\n",
    "# Get the intersection between buffer around people counter sites and visits recorded in People and Nature Survey.\n",
    "visit_df_y2=gdf.to_crs(crs_mtr).sjoin(sites_df.to_crs(crs_mtr),\\\n",
    "                                           how=\"left\",op='intersects').dropna(subset=['counter'])\n",
    "visit_df_y2=visit_df_y2.to_crs(crs_deg)"
   ]
  },
  {
   "cell_type": "code",
   "execution_count": null,
   "id": "7109cf4e",
   "metadata": {},
   "outputs": [],
   "source": [
    "# Visualisation:  People and Nature Survey visits intersection with people counter sites\n",
    "\n",
    "ax=sites_df.centroid.to_crs(crs_deg).plot(color='blue',marker='o',label='People counter locations')\n",
    "# contextily.add_basemap(ax,crs=crs_deg,source=contextily.providers.OpenStreetMap.Mapnik)\n",
    "visit_df_y2.plot(ax=ax,c='red',alpha=0.25,marker='+',label='People and Nature survey visits')\n",
    "contextily.add_basemap(ax,crs= crs_deg,source=contextily.providers.CartoDB.Positron)\n",
    "plt.legend(loc='lower right', frameon=1)\n",
    "plt.axis('off')\n",
    "\n",
    "plt.savefig(f\"./outputs/counters_pnas.png\", format= 'png', dpi=300, bbox_inches='tight')"
   ]
  },
  {
   "cell_type": "code",
   "execution_count": null,
   "id": "6e141e4a",
   "metadata": {},
   "outputs": [],
   "source": [
    "# select features of interest from PNAS survey\n",
    "visit_df_y2=visit_df_y2.reset_index(drop=True)\n",
    "\n",
    "# Focus on a few selected features\n",
    "few_ftrs=['Wave','Date','No_Of_Visits','Latitude','Longitude','Dog',\\\n",
    "'Home_Rural_Urban_Asked','Home_IMD_Decile','Visit_IMD_Decile','geometry']"
   ]
  },
  {
   "attachments": {},
   "cell_type": "markdown",
   "id": "fced06b8",
   "metadata": {},
   "source": [
    "# Investigate Dog Ownership data"
   ]
  },
  {
   "cell_type": "code",
   "execution_count": null,
   "id": "3eee2411",
   "metadata": {},
   "outputs": [],
   "source": [
    "# Dog occupancy is a feature of interest. This feature records if the visitor had a dog with their visit\n",
    "visit_df_y2['Dog']=visit_df_y2['Dog'].eq('Yes').mul(1)\n",
    "\n",
    "# data type wrangling\n",
    "visit_df_y2['No_Of_Visits']=visit_df_y2['No_Of_Visits'].astype(float)\n",
    "visit_df_y2['Home_IMD_Decile']=visit_df_y2['Home_IMD_Decile'].astype(float)\n",
    "visit_df_y2['Visit_IMD_Decile']=visit_df_y2['Visit_IMD_Decile'].astype(float)"
   ]
  },
  {
   "cell_type": "code",
   "execution_count": null,
   "id": "454ecee5",
   "metadata": {},
   "outputs": [],
   "source": [
    "# visualise visits across the counter sites\n",
    "visit_df_y2.groupby('Date')['No_Of_Visits'].mean().plot(style='-o')\n",
    "\n",
    "# save time series of number of visits for each site\n",
    "visit_df_y2.to_pickle(data_folder+'nature_survey_time_series_data.pkl')"
   ]
  },
  {
   "cell_type": "code",
   "execution_count": null,
   "id": "5ec8b264",
   "metadata": {},
   "outputs": [],
   "source": [
    "# Count the mean number of visits and dog occupancy for each spatial site\n",
    "ftr='Dog'\n",
    "visits_with_dogs_df=visit_df_y2.groupby('counter')[['No_Of_Visits',ftr]].mean().reset_index()\n",
    "visits_with_dogs_df=sites_df[['counter','geometry']].merge(visits_with_dogs_df,on=['counter'])\n",
    "visits_with_dogs_df['area_sq_km']=visits_with_dogs_df.to_crs(crs_mtr).geometry.area/10**6\n",
    "visits_with_dogs_df['geometry']=visits_with_dogs_df['geometry'].centroid\n",
    "visits_with_dogs_df=visits_with_dogs_df.to_crs(crs_deg)\n",
    "visits_with_dogs_df['latitude'] = visits_with_dogs_df.geometry.apply(lambda p: p.y)\n",
    "visits_with_dogs_df['longitude'] = visits_with_dogs_df.geometry.apply(lambda p: p.x)"
   ]
  },
  {
   "cell_type": "code",
   "execution_count": null,
   "id": "fff6d879",
   "metadata": {},
   "outputs": [],
   "source": [
    "# Visualisation of mean dog occupancy and number of visits.\n",
    "fig = px.scatter_mapbox(visits_with_dogs_df, lat=\"latitude\", lon=\"longitude\",\\\n",
    "                        color=\"No_Of_Visits\", size=ftr,\n",
    "                        color_continuous_scale=\"RdYlGn_r\",\n",
    "                        center={\"lat\": visits_with_dogs_df['latitude'].mean(),\\\n",
    "                                \"lon\": visits_with_dogs_df['longitude'].mean()}, zoom=3.5,\n",
    "                        mapbox_style=\"carto-positron\", hover_name=\"counter\")\n",
    "fig.update_layout(margin=dict(l=0, r=0, t=30, b=10))\n",
    "fig.show()"
   ]
  },
  {
   "cell_type": "code",
   "execution_count": null,
   "id": "09b61b5c",
   "metadata": {},
   "outputs": [],
   "source": [
    "# Visualisation of number of visits and dog occupancy: averaged over time \n",
    "\n",
    "visit_df_y2_agg=visit_df_y2.groupby(['counter'])[['No_Of_Visits','Dog']].mean().reset_index()\n",
    "\n",
    "\n",
    "df=visit_df_y2_agg\n",
    "\n",
    "g = sns.pairplot(df, kind='reg', height=2,\n",
    "                 plot_kws={'line_kws': {'color': 'black'}})\n",
    "g.map_lower(r2)\n",
    "for i, j in zip(*np.triu_indices_from(g.axes, 1)):\n",
    "    g.axes[i, j].set_visible(False)\n",
    "plt.show()"
   ]
  },
  {
   "attachments": {},
   "cell_type": "markdown",
   "id": "97b80458",
   "metadata": {},
   "source": [
    "## Save and export dog ownership data "
   ]
  },
  {
   "cell_type": "code",
   "execution_count": null,
   "id": "7f3acc8c",
   "metadata": {},
   "outputs": [],
   "source": [
    "df_mean_dog_occupncy=visit_df_y2_agg.copy()\n",
    "\n",
    "df_mean_dog_occupncy.rename(columns={'Dog':'Mean_dog_occupancy'},inplace=True)\n",
    "\n",
    "df_mean_dog_occupncy.to_pickle(data_folder+'dog_occupancy_sites.pkl')"
   ]
  }
 ],
 "metadata": {
  "kernelspec": {
   "display_name": "base",
   "language": "python",
   "name": "python3"
  },
  "language_info": {
   "codemirror_mode": {
    "name": "ipython",
    "version": 3
   },
   "file_extension": ".py",
   "mimetype": "text/x-python",
   "name": "python",
   "nbconvert_exporter": "python",
   "pygments_lexer": "ipython3",
   "version": "3.9.12 (main, Apr  5 2022, 01:53:17) \n[Clang 12.0.0 ]"
  },
  "vscode": {
   "interpreter": {
    "hash": "fec184d30afd030858da285c353de3565cbb1141a676f86e0b3a02c882ab620d"
   }
  }
 },
 "nbformat": 4,
 "nbformat_minor": 5
}
