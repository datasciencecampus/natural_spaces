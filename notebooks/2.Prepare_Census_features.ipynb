{
 "cells": [
  {
   "attachments": {},
   "cell_type": "markdown",
   "id": "eae1c379",
   "metadata": {},
   "source": [
    "This notebook retrieves relevant features from the 2011 Censys at Output Area level. The 5km buffer zones surrounding each people counter location are then intersected with census data to create a data set relevant to each location. Finally, these data sets are compiled into a single data set containing all census features.\n",
    "All the data files have been downloaded from Nomis (https://www.nomisweb.co.uk)"
   ]
  },
  {
   "cell_type": "code",
   "execution_count": null,
   "id": "a86d3ec1",
   "metadata": {},
   "outputs": [],
   "source": [
    "%load_ext autoreload\n",
    "%autoreload 2\n",
    "\n",
    "# All the variables are defined in the Config file\n",
    "from model_config import *\n",
    "from model_utils import *"
   ]
  },
  {
   "cell_type": "code",
   "execution_count": null,
   "id": "f2b2c26f",
   "metadata": {},
   "outputs": [],
   "source": [
    "os.chdir('..')"
   ]
  },
  {
   "attachments": {},
   "cell_type": "markdown",
   "id": "5307f832",
   "metadata": {},
   "source": [
    "# Retrieve Output Area shapefiles"
   ]
  },
  {
   "cell_type": "code",
   "execution_count": null,
   "id": "c4a8723a",
   "metadata": {},
   "outputs": [],
   "source": [
    "# Output Area shape files\n",
    "\n",
    "df_oa_shap_files=gpd.read_file(census_locn_file_data+'/infuse_oa_lyr_2011')\n",
    "\n",
    "df_oa_shap_files=df_oa_shap_files[df_oa_shap_files['geo_code'].str.lower().str.startswith('e')].\\\n",
    "reset_index(drop=True)\n",
    "\n",
    "df_oa_shap_files=df_oa_shap_files[['geo_code','geometry']]\n",
    "\n",
    "df_oa_shap_files.rename(columns={'geo_code':'2011 output area'},inplace=True)"
   ]
  },
  {
   "attachments": {},
   "cell_type": "markdown",
   "id": "0e6b88d7",
   "metadata": {},
   "source": [
    "# Retreive Urban-Rural Classification of each Output Area"
   ]
  },
  {
   "cell_type": "code",
   "execution_count": null,
   "id": "315719b3",
   "metadata": {},
   "outputs": [],
   "source": [
    "# Urban-rural classification at the Output Area \n",
    "\n",
    "df_urbn_rurl_oa=pd.read_csv(census_locn_file_data+'RUC11_OA11_EW.csv',skiprows=0)\n",
    "\n",
    "df_urbn_rurl_oa=df_urbn_rurl_oa[df_urbn_rurl_oa['OA11CD'].str.lower().str.startswith('e')]\n",
    "\n",
    "df_urbn_rurl_oa=df_urbn_rurl_oa[['OA11CD','RUC11']].reset_index(drop=True)\n",
    "\n",
    "df_urbn_rurl_oa.rename(columns={'OA11CD':'2011 output area','RUC11':'urban_rural'},inplace=True)"
   ]
  },
  {
   "cell_type": "code",
   "execution_count": null,
   "id": "b02a4847",
   "metadata": {},
   "outputs": [],
   "source": [
    "#save Output area classification as rural-urban with shapefiles\n",
    "df_oa_shap_files=df_oa_shap_files.merge(df_urbn_rurl_oa,on=['2011 output area'],how='inner')\n",
    "\n",
    "df_oa_shap_files.to_pickle(data_folder+'urban_rural_oa.pkl')"
   ]
  },
  {
   "attachments": {},
   "cell_type": "markdown",
   "id": "c9aa7237",
   "metadata": {},
   "source": [
    "# Retreive census features"
   ]
  },
  {
   "attachments": {},
   "cell_type": "markdown",
   "id": "85b64b92",
   "metadata": {},
   "source": [
    "## 1. Household occupancy \n",
    "\n",
    "['1 person in household', '2 people in household', '3 people in household', '4 people in household', '5 people in household', '6 people in household', '7 people in household', '8 or more people in household']"
   ]
  },
  {
   "cell_type": "code",
   "execution_count": null,
   "id": "16aebb39",
   "metadata": {},
   "outputs": [],
   "source": [
    "df_hh_oa = pd.read_csv(census_locn_file_data+'household_occupancy.csv')\n",
    "df_hh_oa= df_hh_oa.set_index('2011 output area')\n",
    "\n",
    "hh_ftrs=list(df_hh_oa.columns)\n",
    "\n",
    "\n",
    "#print(df_hh_oa.sample(5))\n",
    "print(hh_ftrs)"
   ]
  },
  {
   "attachments": {},
   "cell_type": "markdown",
   "id": "fe3b0d38",
   "metadata": {},
   "source": [
    "## 2. Age groups\n",
    "\n",
    "['Age 0 to 4', 'Age 5 to 7', 'Age 8 to 9', 'Age 10 to 14', 'Age 15',\n",
    "       'Age 16 to 17', 'Age 18 to 19', 'Age 20 to 24', 'Age 25 to 29',\n",
    "       'Age 30 to 44', 'Age 45 to 59', 'Age 60 to 64', 'Age 65 to 74',\n",
    "       'Age 75 to 84', 'Age 85 to 89', 'Age 90 and over']"
   ]
  },
  {
   "cell_type": "code",
   "execution_count": null,
   "id": "497c2eb3",
   "metadata": {},
   "outputs": [],
   "source": [
    "df_age_oa = pd.read_csv(census_locn_file_data+'age_groups.csv')\n",
    "df_age_oa=df_age_oa.set_index('2011 output area')\n",
    "\n",
    "age_ftrs=df_age_oa.columns\n",
    "\n",
    "\n",
    "print(age_ftrs)"
   ]
  },
  {
   "attachments": {},
   "cell_type": "markdown",
   "id": "28780970",
   "metadata": {},
   "source": [
    "## 3. Deprivation by households\n",
    "\n",
    "['Household is not deprived in any dimension', 'Household is deprived in 1 dimension', 'Household is deprived in 2 dimensions', 'Household is deprived in 3 dimensions', 'Household is deprived in 4 dimensions']"
   ]
  },
  {
   "cell_type": "code",
   "execution_count": null,
   "id": "15c33df4",
   "metadata": {},
   "outputs": [],
   "source": [
    "df_dep_oa = pd.read_csv(census_locn_file_data+'deprivation_dimension.csv')\n",
    "df_dep_oa=df_dep_oa.set_index('2011 output area')\n",
    "dep_ftrs=list(df_dep_oa.columns)\n",
    "df_dep_oa[dep_ftrs]=df_dep_oa[dep_ftrs].astype(float)\n",
    "\n",
    "print(dep_ftrs)"
   ]
  },
  {
   "attachments": {},
   "cell_type": "markdown",
   "id": "4dfe109b",
   "metadata": {},
   "source": [
    "## 4. Population density\n",
    "\n",
    "['All usual residents', 'Schoolchild or full-time student aged 4 and over at their non term-time address', 'Area (Hectares)', 'Density (number of persons per hectare)']"
   ]
  },
  {
   "cell_type": "code",
   "execution_count": null,
   "id": "0e3c561f",
   "metadata": {},
   "outputs": [],
   "source": [
    "df_res_oa = pd.read_csv(census_locn_file_data+'population_density.csv')\n",
    "df_res_oa=df_res_oa.set_index('2011 output area')\n",
    "res_ftrs=list(df_res_oa.columns)\n",
    "\n",
    "df_res_oa[res_ftrs]=df_res_oa[res_ftrs].astype(float)\n",
    "\n",
    "print(res_ftrs)"
   ]
  },
  {
   "attachments": {},
   "cell_type": "markdown",
   "id": "f5fa84bc",
   "metadata": {},
   "source": [
    "## 5. Working population\n",
    "\n",
    "['Economically active', 'Economically Inactive',\n",
    "       'Unemployed: Age 16 to 24', 'Unemployed: Age 50 to 74',\n",
    "       'Unemployed: Never worked', 'Long-term unemployed']"
   ]
  },
  {
   "cell_type": "code",
   "execution_count": null,
   "id": "7f222049",
   "metadata": {},
   "outputs": [],
   "source": [
    "df_wrk_oa= pd.read_csv(census_locn_file_data+'working_population.csv')\n",
    "df_wrk_oa= df_wrk_oa.set_index('2011 output area')\n",
    "\n",
    "\n",
    "wrk_ftrs=df_wrk_oa.columns\n",
    "\n",
    "print(wrk_ftrs)"
   ]
  },
  {
   "attachments": {},
   "cell_type": "markdown",
   "id": "f796f362",
   "metadata": {},
   "source": [
    "## 6. Population Health\n",
    "\n",
    "['Very good health', 'Good health', 'Fair health', 'Bad health', 'Very bad health']"
   ]
  },
  {
   "cell_type": "code",
   "execution_count": null,
   "id": "e17efcae",
   "metadata": {},
   "outputs": [],
   "source": [
    "df_hlth_oa= pd.read_csv(census_locn_file_data+'population_health.csv')\n",
    "df_hlth_oa =df_hlth_oa.set_index('2011 output area')\n",
    "\n",
    "\n",
    "hlth_ftrs=list(df_hlth_oa.columns)\n",
    "\n",
    "df_hlth_oa[hlth_ftrs]=df_hlth_oa[hlth_ftrs].astype(float)\n",
    "\n",
    "print(hlth_ftrs)"
   ]
  },
  {
   "attachments": {},
   "cell_type": "markdown",
   "id": "ed20c10d",
   "metadata": {},
   "source": [
    "## 7. Ethnicity\n",
    "\n",
    "['White', 'Mixed/multiple ethnic groups', 'Asian/Asian British', 'Black/African/Caribbean/Black British', 'Other ethnic group']"
   ]
  },
  {
   "cell_type": "code",
   "execution_count": null,
   "id": "1c0d9247",
   "metadata": {},
   "outputs": [],
   "source": [
    "df_ethnc_oa= pd.read_csv(census_locn_file_data+'ethnicity.csv')\n",
    "df_ethnc_oa= df_ethnc_oa.set_index('2011 output area')\n",
    "\n",
    "ethnc_ftrs=list(df_ethnc_oa.columns)\n",
    "\n",
    "df_ethnc_oa[ethnc_ftrs]=df_ethnc_oa[ethnc_ftrs].astype(float)\n",
    "\n",
    "print(ethnc_ftrs)"
   ]
  },
  {
   "attachments": {},
   "cell_type": "markdown",
   "id": "351325d4",
   "metadata": {},
   "source": [
    "## 8. Cars per household\n",
    "\n",
    "['No cars or vans in household', '1 car or van in household',\n",
    "       '2 cars or vans in household', '3 cars or vans in household',\n",
    "       '4 or more cars or vans in household']"
   ]
  },
  {
   "cell_type": "code",
   "execution_count": null,
   "id": "8e47d14e",
   "metadata": {},
   "outputs": [],
   "source": [
    "df_cars_oa= pd.read_csv(census_locn_file_data+'cars.csv')\n",
    "df_cars_oa= df_cars_oa.set_index('2011 output area')\n",
    "\n",
    "vehcl_ftrs=df_cars_oa.select_dtypes(include=np.number).columns\n",
    "\n",
    "print(vehcl_ftrs)"
   ]
  },
  {
   "attachments": {},
   "cell_type": "markdown",
   "id": "b508c1a3",
   "metadata": {},
   "source": [
    "## Merge all Census features"
   ]
  },
  {
   "cell_type": "code",
   "execution_count": null,
   "id": "81d73563",
   "metadata": {},
   "outputs": [],
   "source": [
    "# single dataframe with all census features\n",
    "df_census_oa=pd.concat([df_hh_oa,df_age_oa,df_dep_oa,df_res_oa,df_wrk_oa,df_hlth_oa,df_ethnc_oa,df_cars_oa],axis=1).\\\n",
    "reset_index()\n",
    "\n",
    "\n",
    "#merge with OA shapefiles on '2011 output area' to obtain geometries\n",
    "df_census_oa=df_census_oa.merge(df_oa_shap_files,right_on=['2011 output area'],\\\n",
    "                                left_on=['2011 output area'],how='inner').dropna().reset_index(drop=True)\n",
    "\n",
    "\n",
    "df_census_oa.to_pickle(data_folder+'census_oa_shapefiles.pkl')"
   ]
  },
  {
   "attachments": {},
   "cell_type": "markdown",
   "id": "70124217",
   "metadata": {},
   "source": [
    "# Obtain census features for 5km buffer zone around each people counter location"
   ]
  },
  {
   "cell_type": "code",
   "execution_count": null,
   "id": "9abef725",
   "metadata": {},
   "outputs": [],
   "source": [
    "# Read locations of people monitoring sites \n",
    "\n",
    "df_sites=gpd.read_file(data_folder+'accessibility.shp')\n",
    "\n",
    "df_sites=df_sites[df_sites['geom_type']=='5km buffer']\n",
    "\n",
    "df_sites=df_sites[['counter','geometry']].reset_index(drop=True)\n",
    "\n",
    "print(df_sites.shape)"
   ]
  },
  {
   "cell_type": "code",
   "execution_count": null,
   "id": "62340dfd",
   "metadata": {},
   "outputs": [],
   "source": [
    "# Find the intersections of 5km buffer areas around each people counter sites and the census information at the Output Area\n",
    "df_sites_oa_intersection=df_sites.to_crs(crs_mtr).overlay(gpd.GeoDataFrame(df_census_oa).to_crs(crs_mtr),\\\n",
    "                                                          how='intersection')"
   ]
  },
  {
   "cell_type": "code",
   "execution_count": null,
   "id": "6c042a3f",
   "metadata": {},
   "outputs": [],
   "source": [
    "#Visualise Output Area for each monitoring sites\n",
    "\n",
    "ax=df_sites.to_crs(crs_deg).plot(alpha=1)\n",
    "df_sites_oa_intersection.to_crs(crs_deg).plot(ax=ax,alpha=0.25,color='r')\n",
    "    \n",
    "# Add basemap\n",
    "contextily.add_basemap(\n",
    "ax,\n",
    "crs=df_sites.to_crs(crs_deg).crs.to_string(),\n",
    "source=contextily.providers.CartoDB.VoyagerNoLabels,\n",
    ")\n",
    "# Remove axes\n",
    "ax.set_axis_off();\n",
    "    \n",
    "   "
   ]
  },
  {
   "cell_type": "code",
   "execution_count": null,
   "id": "9331504f",
   "metadata": {},
   "outputs": [],
   "source": [
    "df_sites_oa_intersection['area_sq_km']=df_sites_oa_intersection.to_crs(crs_mtr).area/10**6"
   ]
  },
  {
   "cell_type": "code",
   "execution_count": null,
   "id": "7e61f76e",
   "metadata": {},
   "outputs": [],
   "source": [
    "#Visualisation: Output area make up of each monitoring site \n",
    "df_sites_oa_intersection.groupby(['counter','urban_rural'])['area_sq_km'].sum().unstack().\\\n",
    "reset_index().sort_values(by='counter').plot.barh(x = 'counter', y = df_sites_oa_intersection['urban_rural'].unique().tolist(),\\\n",
    "                        stacked=True,figsize=(15, 10))"
   ]
  },
  {
   "cell_type": "code",
   "execution_count": null,
   "id": "a71aaf8f",
   "metadata": {},
   "outputs": [],
   "source": [
    "# Visualise distribution of area of buffer zones.\n",
    "df_sites_oa_intersection.groupby('counter')['area_sq_km'].sum().hist()"
   ]
  },
  {
   "attachments": {},
   "cell_type": "markdown",
   "id": "9029ee54",
   "metadata": {},
   "source": [
    "# Save census feature data for each buffer zone."
   ]
  },
  {
   "cell_type": "code",
   "execution_count": null,
   "id": "a91c350b",
   "metadata": {},
   "outputs": [],
   "source": [
    "df_sites_oa_intersection.to_pickle(data_folder+'census_oa_socio_economic_ftrs.pkl')"
   ]
  }
 ],
 "metadata": {
  "kernelspec": {
   "display_name": "req_old",
   "language": "python",
   "name": "python3"
  },
  "language_info": {
   "codemirror_mode": {
    "name": "ipython",
    "version": 3
   },
   "file_extension": ".py",
   "mimetype": "text/x-python",
   "name": "python",
   "nbconvert_exporter": "python",
   "pygments_lexer": "ipython3",
   "version": "3.10.9 (main, Jan 11 2023, 14:59:37) [Clang 14.0.0 (clang-1400.0.29.202)]"
  },
  "vscode": {
   "interpreter": {
    "hash": "73dd042dec22895802a5cf4c230cd0d0aa33a4e312107f26490806e8c532eb8a"
   }
  }
 },
 "nbformat": 4,
 "nbformat_minor": 5
}
